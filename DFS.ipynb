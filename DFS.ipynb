{
 "cells": [
  {
   "cell_type": "code",
   "execution_count": 112,
   "metadata": {},
   "outputs": [
    {
     "name": "stdout",
     "output_type": "stream",
     "text": [
      "B-A-C-F-E-D-"
     ]
    }
   ],
   "source": [
    "graph = {\n",
    "    'A': ['B', 'C'],\n",
    "    'B': ['A', 'D', 'E'],\n",
    "    'C': ['A', 'F'],\n",
    "    'D': ['B'],\n",
    "    'E': ['B', 'F'],\n",
    "    'F': ['C', 'E']\n",
    "\n",
    "}\n",
    "\n",
    "visited = set()\n",
    "def depth_free_search(node):\n",
    "    if node not in visited :\n",
    "        print(node , end= \"-\")\n",
    "        visited.add(node)\n",
    "        for neighbour in graph[node]:\n",
    "            depth_free_search(neighbour)\n",
    "    \n",
    "depth_free_search(\"B\")\n",
    "        \n",
    "\n",
    "    \n",
    "\n",
    "\n"
   ]
  },
  {
   "cell_type": "code",
   "execution_count": 115,
   "metadata": {},
   "outputs": [],
   "source": [
    "# intializing these parameters"
   ]
  },
  {
   "cell_type": "code",
   "execution_count": 117,
   "metadata": {},
   "outputs": [
    {
     "name": "stdout",
     "output_type": "stream",
     "text": [
      "F C A B D E "
     ]
    }
   ],
   "source": [
    "# by using a set\n",
    "visited = set()\n",
    "def depth_free_search(node):\n",
    "    if node not in visited:\n",
    "        print(node, end=\" \")\n",
    "        visited.add(node)\n",
    "        for neighbour in graph[node]:\n",
    "            depth_free_search(neighbour)\n",
    "\n",
    "depth_free_search(\"F\")\n",
    "    \n"
   ]
  },
  {
   "cell_type": "code",
   "execution_count": 119,
   "metadata": {},
   "outputs": [],
   "source": [
    "adj_List =  {\n",
    "    \n",
    "    \"A\" : [\"B\", \"C\"],\n",
    "    \"B\" : [\"D\", \"E\"],\n",
    "    \"C\" : [\"B\", \"F\"], \n",
    "    \"D\" : [],\n",
    "    \"E\" : [\"F\"],\n",
    "    \"F\" : []\n",
    "}\n",
    "\n",
    "clr = {}\n",
    "prt = {}\n",
    "trv_t  = {}\n",
    "dfs_trav_path = []\n",
    "\n",
    "for i in adj_List.keys():\n",
    "    clr[i] = \"R\"\n",
    "    prt[i] = None\n",
    "    trv_t[i] = [-1, -1]\n",
    "\n",
    "\n"
   ]
  },
  {
   "cell_type": "code",
   "execution_count": 121,
   "metadata": {},
   "outputs": [
    {
     "name": "stdout",
     "output_type": "stream",
     "text": [
      "['A', 'A']\n"
     ]
    }
   ],
   "source": [
    "# DFS Algo\n",
    "time = 0\n",
    "def depth_free_search(node):\n",
    "    clr[node] = \"B\"\n",
    "    dfs_trav_path.append(node)\n",
    "    for neighbour in adj_List[node]:\n",
    "        if clr[node] == \"R\":\n",
    "            depth_free_search(neighbour)\n",
    "        \n",
    "\n",
    "depth_free_search(\"A\")\n",
    "print(dfs_trav_path)\n",
    "\n",
    "\n",
    "    "
   ]
  },
  {
   "cell_type": "code",
   "execution_count": 122,
   "metadata": {},
   "outputs": [],
   "source": [
    "a = []\n",
    "for i in a :\n",
    "    if a == 1 :\n",
    "        print (\"hello world\")"
   ]
  },
  {
   "cell_type": "code",
   "execution_count": null,
   "metadata": {},
   "outputs": [],
   "source": []
  }
 ],
 "metadata": {
  "kernelspec": {
   "display_name": "Python 3",
   "language": "python",
   "name": "python3"
  },
  "language_info": {
   "codemirror_mode": {
    "name": "ipython",
    "version": 3
   },
   "file_extension": ".py",
   "mimetype": "text/x-python",
   "name": "python",
   "nbconvert_exporter": "python",
   "pygments_lexer": "ipython3",
   "version": "3.11.4"
  },
  "orig_nbformat": 4
 },
 "nbformat": 4,
 "nbformat_minor": 2
}
