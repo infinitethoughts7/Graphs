{
 "cells": [
  {
   "cell_type": "code",
   "execution_count": 112,
   "metadata": {},
   "outputs": [
    {
     "name": "stdout",
     "output_type": "stream",
     "text": [
      "B-A-C-F-E-D-"
     ]
    }
   ],
   "source": [
    "graph = {\n",
    "    'A': ['B', 'C'],\n",
    "    'B': ['A', 'D', 'E'],\n",
    "    'C': ['A', 'F'],\n",
    "    'D': ['B'],\n",
    "    'E': ['B', 'F'],\n",
    "    'F': ['C', 'E']\n",
    "\n",
    "}\n",
    "\n",
    "visited = set()\n",
    "def depth_free_search(node):\n",
    "    if node not in visited :\n",
    "        print(node , end= \"-\")\n",
    "        visited.add(node)\n",
    "        for neighbour in graph[node]:\n",
    "            depth_free_search(neighbour)\n",
    "    \n",
    "depth_free_search(\"B\")\n",
    "        \n",
    "\n",
    "    \n",
    "\n",
    "\n"
   ]
  },
  {
   "cell_type": "code",
   "execution_count": 115,
   "metadata": {},
   "outputs": [],
   "source": [
    "# intializing these parameters"
   ]
  },
  {
   "cell_type": "code",
   "execution_count": 117,
   "metadata": {},
   "outputs": [
    {
     "name": "stdout",
     "output_type": "stream",
     "text": [
      "F C A B D E "
     ]
    }
   ],
   "source": [
    "# by using a set\n",
    "visited = set()\n",
    "def depth_free_search(node):\n",
    "    if node not in visited:\n",
    "        print(node, end=\" \")\n",
    "        visited.add(node)\n",
    "        for neighbour in graph[node]:\n",
    "            depth_free_search(neighbour)\n",
    "\n",
    "depth_free_search(\"F\")\n",
    "    \n"
   ]
  },
  {
   "cell_type": "code",
   "execution_count": 153,
   "metadata": {},
   "outputs": [
    {
     "name": "stdout",
     "output_type": "stream",
     "text": [
      "Dfs_trav_path:\n",
      " :['A', 'B', 'D', 'E', 'F', 'C']\n",
      "\n",
      "Updated colours:\n",
      ": {'A': 'G', 'B': 'G', 'C': 'G', 'D': 'G', 'E': 'G', 'F': 'G'}\n",
      "\n",
      "Traversal time to reach node:\n",
      " {'A': [0, 11], 'B': [1, 8], 'C': [9, 10], 'D': [2, 3], 'E': [4, 7], 'F': [5, 6]}\n",
      "\n",
      "Parents of the nodes:\n",
      "{'A': None, 'B': 'A', 'C': 'A', 'D': 'B', 'E': 'B', 'F': 'E'}\n",
      "\n",
      "Traversal time:\n",
      "('A', [0, 11])\n",
      "('B', [1, 8])\n",
      "('C', [9, 10])\n",
      "('D', [2, 3])\n",
      "('E', [4, 7])\n",
      "('F', [5, 6])\n"
     ]
    }
   ],
   "source": [
    "adj_List =  {\n",
    "    \n",
    "    \"A\" : [\"B\", \"C\"],\n",
    "    \"B\" : [\"D\", \"E\"],\n",
    "    \"C\" : [\"B\", \"F\"], \n",
    "    \"D\" : [],\n",
    "    \"E\" : [\"F\"],\n",
    "    \"F\" : []\n",
    "}\n",
    "#print(adj_List[\"A\"])\n",
    "\n",
    "clr = {}\n",
    "prt = {}\n",
    "trv_t  = {}\n",
    "dfs_trav_path = []\n",
    "\n",
    "for i in adj_List.keys():\n",
    "    clr[i] = \"R\"\n",
    "    prt[i] = None\n",
    "    trv_t[i] = [-1, -1]\n",
    "#print(clr)\n",
    "# DFS Algo\n",
    "time = 0\n",
    "\n",
    "def depth_free_search(node):\n",
    "    global time \n",
    "    clr[node] = \"B\"\n",
    "    trv_t[node][0] = time \n",
    "    dfs_trav_path.append(node)\n",
    "    time += 1\n",
    "    for neighbour in adj_List[node]:\n",
    "        if clr[neighbour] == \"R\":\n",
    "            prt[neighbour] = node\n",
    "            depth_free_search(neighbour)\n",
    "    clr[node] = \"G\"\n",
    "    trv_t[node][1] = time \n",
    "    time +=1\n",
    "depth_free_search(\"A\")\n",
    "print(f\"Dfs_trav_path:\\n :{dfs_trav_path}\")\n",
    "print()\n",
    "print(f\"Updated colours:\\n: {clr}\")\n",
    "print()\n",
    "print(f\"Traversal time to reach node:\\n {trv_t}\")\n",
    "print()\n",
    "print(f\"Parents of the nodes:\\n{prt}\")\n",
    "print()\n",
    "print(\"Traversal time:\")\n",
    "for node in trv_t.keys():\n",
    "\n",
    "    print(f\"{node, trv_t[node]}\")\n"
   ]
  },
  {
   "cell_type": "code",
   "execution_count": null,
   "metadata": {},
   "outputs": [],
   "source": []
  },
  {
   "cell_type": "code",
   "execution_count": null,
   "metadata": {},
   "outputs": [],
   "source": []
  }
 ],
 "metadata": {
  "kernelspec": {
   "display_name": "Python 3",
   "language": "python",
   "name": "python3"
  },
  "language_info": {
   "codemirror_mode": {
    "name": "ipython",
    "version": 3
   },
   "file_extension": ".py",
   "mimetype": "text/x-python",
   "name": "python",
   "nbconvert_exporter": "python",
   "pygments_lexer": "ipython3",
   "version": "3.11.4"
  },
  "orig_nbformat": 4
 },
 "nbformat": 4,
 "nbformat_minor": 2
}
